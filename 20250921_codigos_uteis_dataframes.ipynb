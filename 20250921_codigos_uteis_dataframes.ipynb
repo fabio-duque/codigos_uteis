{
 "cells": [
  {
   "cell_type": "code",
   "execution_count": null,
   "metadata": {
    "vscode": {
     "languageId": "plaintext"
    }
   },
   "outputs": [],
   "source": [
    "  dd  from IPython.display import HTML, display"
   ]
  },
  {
   "cell_type": "code",
   "execution_count": null,
   "metadata": {
    "vscode": {
     "languageId": "plaintext"
    }
   },
   "outputs": [],
   "source": [
    "import  mkdocs-enumerate-headings-plugin as mk"
   ]
  },
  {
   "cell_type": "markdown",
   "metadata": {},
   "source": [
    "<div style=\"background-color: #1E1E1E; padding: 10px;\">\n",
    "<h1><font color=#FF8C00><strong> Códigos úteis em Python</strong></font></h1>\n",
    "</div>\n",
    "\n",
    "\n",
    "\n"
   ]
  },
  {
   "cell_type": "markdown",
   "metadata": {},
   "source": [
    "[Lidando com missings](#lidando-com-missings)"
   ]
  },
  {
   "cell_type": "markdown",
   "metadata": {
    "vscode": {
     "languageId": "plaintext"
    }
   },
   "source": [
    "[Lidando com outliers](#lidando-com-outliers)"
   ]
  },
  {
   "cell_type": "code",
   "execution_count": null,
   "metadata": {
    "vscode": {
     "languageId": "plaintext"
    }
   },
   "outputs": [],
   "source": []
  },
  {
   "cell_type": "code",
   "execution_count": null,
   "metadata": {
    "vscode": {
     "languageId": "plaintext"
    }
   },
   "outputs": [],
   "source": []
  },
  {
   "cell_type": "code",
   "execution_count": null,
   "metadata": {
    "vscode": {
     "languageId": "plaintext"
    }
   },
   "outputs": [],
   "source": []
  },
  {
   "cell_type": "code",
   "execution_count": null,
   "metadata": {
    "vscode": {
     "languageId": "plaintext"
    }
   },
   "outputs": [],
   "source": []
  },
  {
   "cell_type": "markdown",
   "metadata": {},
   "source": [
    "<a id=\"lidando-com-missings\"></a>\n",
    "<div style=\"background-color: #1E1E1E; padding: 10px;\">\n",
    "<h2><font color=#FFD700>Lidando com missings</font></h2></div>"
   ]
  },
  {
   "cell_type": "code",
   "execution_count": null,
   "metadata": {
    "vscode": {
     "languageId": "plaintext"
    }
   },
   "outputs": [],
   "source": [
    "df['your column name'].isnull().values.any()\n",
    "\t#retorna ‘True’ se encontrou qualquer valor null\n",
    "\n",
    "df['your column name'].isnull().sum()\n",
    "\t#conta a quantidade de valores nulos\n",
    "\n",
    "df.isnull().values.any()\n",
    "\t#verifica se tem qualquer valor nulo no DataFrame\n",
    "\n",
    "df.isnull().sum().sum()\n",
    "\t#conta quantos valores nulos tem no DataFrame inteiro\n",
    "\n",
    "df = pd.DataFrame([(1,2,3,4,5),('a','b','c','d',np.nan),(7,8,9,0)],('x','y','s'),('a','b','c','d','e'))\n",
    "\t#criando um dataframe com valores nulos\n",
    "\n",
    "check = df['e'].isnull().values\n",
    "\t#retorna um array booleano de valores que indicam os nulos\n",
    "\n",
    "check = diabetes_copia[\"Glucose\"].isnull() \n",
    "\t#cria um índice com true or false onde é nulo\n",
    "\n",
    "print(diabetes_copia[\"Glucose\"].loc[check]) \n",
    "\t#mostra os casos onde é nulo\n",
    "\n",
    "diabetes[\"Glucose\"].loc[check==False]\n",
    "\t#mostra onde não é nulo\n",
    "\n",
    "df.loc[df['e'].isnull(),'Check']='Yes'\n",
    "df.loc[df['e'].notnull(),'Check']='No'\n",
    "\t#cria uma coluna chamda “Check” e coloca “Yes” onde é nulo e “No” onde não é nulo\n",
    "\n",
    "df.isnull() #marca tudo o que for nulo\n",
    "\n",
    "df = df[-df.isnull().any(axis=1)]\n",
    "\t#deletar linhas que tem um valor nulo (não é considerado boa prática)\n",
    "\n",
    "df.drop_duplicates(keep=False,inplace=True)\n",
    "\t# deletar linhas duplicadas\n",
    "\t# o “inplace” é para dropar a coluna quando rodar, se só quiser testar, deixar como “false”\n",
    "\t“ o “Keep” é para não manter nenhuma duplicidade, o default é “first”, sei lá porque...\n",
    "\t# ah, sim, se for usando um subset de colunas para identificar as duplicidades, você escolhe se\n",
    "\t# quer manter a primeira ou a última ocorrência\n",
    "\t# por exemplo, cadastro de clientes, tem um CPF duplicado, você vai excluir as duplicidades de CPF e\n",
    "\t# quer manter só a última vez que o CPF foi cadastrado (ou a primeira, por algum motivo)\n",
    "\n",
    "df.apply(lambda x: x.fillna(x.mean()), axis=0)\n",
    "\t# preencher todas os missings de cada coluna com as médias dos demais valores\n",
    "\n",
    "media = df[coluna].mean()\n",
    "df[coluna].fillna(media, inplace=True)\n",
    "\t# preencher com a média os missings de uma coluna específica"
   ]
  },
  {
   "cell_type": "code",
   "execution_count": null,
   "metadata": {
    "vscode": {
     "languageId": "plaintext"
    }
   },
   "outputs": [],
   "source": []
  },
  {
   "cell_type": "code",
   "execution_count": null,
   "metadata": {
    "vscode": {
     "languageId": "plaintext"
    }
   },
   "outputs": [],
   "source": []
  },
  {
   "cell_type": "markdown",
   "metadata": {},
   "source": [
    "<a id=\"lidando-com-outliers\"></a>\n",
    "Lidando com Outliers"
   ]
  }
 ],
 "metadata": {
  "language_info": {
   "name": "python"
  }
 },
 "nbformat": 4,
 "nbformat_minor": 2
}
